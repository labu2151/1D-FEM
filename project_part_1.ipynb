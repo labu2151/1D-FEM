{
 "cells": [
  {
   "cell_type": "code",
   "execution_count": 138,
   "metadata": {},
   "outputs": [
    {
     "name": "stdout",
     "output_type": "stream",
     "text": [
      "Number of Elements: 10\n",
      "Number of Nodes: 21\n",
      "List of Nodes: [0.   0.05 0.1  0.15 0.2  0.25 0.3  0.35 0.4  0.45 0.5  0.55 0.6  0.65\n",
      " 0.7  0.75 0.8  0.85 0.9  0.95 1.  ]\n",
      "Connectivity Matrix: [[ 0  1  2]\n",
      " [ 2  3  4]\n",
      " [ 4  5  6]\n",
      " [ 6  7  8]\n",
      " [ 8  9 10]\n",
      " [10 11 12]\n",
      " [12 13 14]\n",
      " [14 15 16]\n",
      " [16 17 18]\n",
      " [18 19 20]]\n"
     ]
    }
   ],
   "source": [
    "import numpy as np\n",
    "\n",
    "from FEM_1D_Functions import *\n",
    "\n",
    "# configure solver inputs\n",
    "a = 0\n",
    "b = 1\n",
    "L = 1.0\n",
    "u_a = 0\n",
    "u_b = 1.0\n",
    "alpha = 5.0\n",
    "\n",
    "domain = [a, b]\n",
    "degree = 2\n",
    "size = .1\n",
    "\n",
    "generateMeshNodes(a_Domain, a_Degree, a_Size)\n",
    "print(\"Number of Elements:\", numElements)\n",
    "print(\"Number of Nodes:\", numNodes)\n",
    "print(\"List of Nodes:\", nodes)\n",
    "\n",
    "generateMeshConnectivity(numElements, degree)\n",
    "\n",
    "print(\"Connectivity Matrix:\", connectivity)"
   ]
  },
  {
   "cell_type": "code",
   "execution_count": null,
   "metadata": {},
   "outputs": [],
   "source": []
  }
 ],
 "metadata": {
  "kernelspec": {
   "display_name": "Python 3",
   "language": "python",
   "name": "python3"
  },
  "language_info": {
   "codemirror_mode": {
    "name": "ipython",
    "version": 3
   },
   "file_extension": ".py",
   "mimetype": "text/x-python",
   "name": "python",
   "nbconvert_exporter": "python",
   "pygments_lexer": "ipython3",
   "version": "3.7.3"
  }
 },
 "nbformat": 4,
 "nbformat_minor": 2
}
